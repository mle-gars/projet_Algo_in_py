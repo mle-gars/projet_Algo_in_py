{
 "cells": [
  {
   "cell_type": "markdown",
   "metadata": {},
   "source": [
    "EXERCICE 1.1 et 1.2"
   ]
  },
  {
   "cell_type": "code",
   "execution_count": 8,
   "metadata": {},
   "outputs": [
    {
     "name": "stdout",
     "output_type": "stream",
     "text": [
      "[495, 480, 384, 103, 172, 23, 264, 434, 194, 126, 349, 42, 67, 246, 407, 175, 189, 63, 414, 3, 242, 1, 411, 426, 312, 495, 251, 270, 454, 148, 321, 229, 154, 245, 338, 42, 213, 334, 484, 39, 485, 49, 234, 205, 457, 328, 422, 92, 125, 112, 326, 334, 43, 198, 353, 208, 79, 417, 294, 126, 253, 68, 419, 97, 202, 138, 304, 365, 115, 332, 195, 283, 36, 96, 406, 110, 15, 103, 164, 258, 221, 386, 225, 262, 242, 381, 305, 147, 214, 123, 49, 485, 120, 340, 479, 374, 276, 461, 48, 73]\n",
      "[1, 3, 15, 23, 36, 39, 42, 42, 43, 48, 49, 49, 63, 67, 68, 73, 79, 92, 96, 97, 103, 103, 110, 112, 115, 120, 123, 125, 126, 126, 138, 147, 148, 154, 164, 172, 175, 189, 194, 195, 198, 202, 205, 208, 213, 214, 221, 225, 229, 234, 242, 242, 245, 246, 251, 253, 258, 262, 264, 270, 276, 283, 294, 304, 305, 312, 321, 326, 328, 332, 334, 334, 338, 340, 349, 353, 365, 374, 381, 384, 386, 406, 407, 411, 414, 417, 419, 422, 426, 434, 454, 457, 461, 479, 480, 484, 485, 485, 495, 495]\n",
      "La valeur 46 n'est pas présente dans ce tableau.\n",
      "Temps de recherche linéaire 0.00019884109497070312\n",
      "\n",
      "La valeur 46 n'est pas dans ce tableau\n",
      "Temps de recherche dichotomique 0.00010800361633300781\n",
      "\n",
      "Le nombre 46 n'est pas dans le tableau.\n",
      "Temps de recherche par interpolation 7.987022399902344e-05\n"
     ]
    }
   ],
   "source": [
    "\n",
    "import random\n",
    "import time\n",
    "\n",
    "#DEBUT INIT TAB#\n",
    "\n",
    "T = int(input(\"Rentrer taille tableau :\"))\n",
    "\n",
    "tab = [random.randint(0, T) for _ in range(T)]\n",
    "\n",
    "#FIN INIT TAB#\n",
    "\n",
    "#TRI DU TAB#\n",
    "\n",
    "print(tab)\n",
    "tab = sorted(tab)\n",
    "print(tab)\n",
    "\n",
    "#FIN TRI DU TAB#\n",
    "\n",
    "\n",
    "n = int(input(\"Entrez un entier :\")) #RECHERCHE ENTIER#\n",
    "\n",
    "\n",
    "#DEBUT DE RECHERCHE LINEAIRE#\n",
    "\n",
    "i=0\n",
    "\n",
    "start2 = time.time()\n",
    "\n",
    "while i < len(tab) and tab[i] != n:\n",
    "\n",
    "    i = i + 1\n",
    "\n",
    "if i < len(tab):\n",
    "\n",
    "    print(\"La valeur\", n, \"est à l'indice\", i)\n",
    "\n",
    "else:\n",
    "\n",
    "    print(\"La valeur\", n, \"n'est pas présente dans ce tableau.\")\n",
    "\n",
    "\n",
    "end2 = time.time()\n",
    "\n",
    "print(\"Temps de recherche linéaire\", end2 - start2)\n",
    "\n",
    "#FIN DE RECHERCHCHE LINEAIRE#\n",
    "\n",
    "\n",
    "#DEBUT DE RECHERCHE DICHOTOMIQUE#\n",
    "\n",
    "debut = 0\n",
    "fin = T - 1\n",
    "trouve = False\n",
    "\n",
    "start1 = time.time()\n",
    "\n",
    "while debut <= fin and not(trouve):\n",
    "\n",
    "    milieu = int((debut+fin)/2)\n",
    "\n",
    "    if tab[milieu] == n:\n",
    "\n",
    "        trouve = True\n",
    "\n",
    "    elif tab[milieu] > n:\n",
    "\n",
    "        fin = milieu - 1\n",
    "\n",
    "    else:\n",
    "\n",
    "        debut = milieu + 1\n",
    "\n",
    "if trouve:\n",
    "    print(\"\\nLa valeur\", n , \"est à l'indice\", milieu)\n",
    "else:\n",
    "    print(\"\\nLa valeur\", n , \"n'est pas dans ce tableau\")\n",
    "\n",
    "end1 = time.time()\n",
    "\n",
    "print(\"Temps de recherche dichotomique\", end1 - start1)\n",
    "\n",
    "#FIN TRI DICHOTOMIQUE#\n",
    "\n",
    "\n",
    "#DEBUT DE RECHERCHE INTERPOLATION (ITE)#\n",
    "\n",
    "debut = 0\n",
    "fin = T - 1\n",
    "trouve = False\n",
    "\n",
    "start3 = time.time()\n",
    "\n",
    "\n",
    "while debut <= fin and not trouve:\n",
    "    \n",
    "    if (tab[fin] - tab[debut]) == 0 :\n",
    "        break\n",
    "\n",
    "    else:\n",
    "    \n",
    "        probplace = debut + (((fin - debut) * (n - tab[debut])) / ((tab[fin]) - (tab[debut])))\n",
    "        probplace = int(probplace)\n",
    "\n",
    "        if tab[probplace] == n:\n",
    "            trouve = True\n",
    "\n",
    "        else:\n",
    "            if  tab[probplace] < n:\n",
    "                debut = probplace + 1\n",
    "            else:\n",
    "                fin  = probplace - 1\n",
    "    \n",
    "    if probplace == debut or probplace == fin:\n",
    "        break\n",
    "\n",
    "\n",
    "\n",
    "end3 = time.time()\n",
    "\n",
    "if trouve == True:\n",
    "    print(\"\\nLa valeur\", n, \"est à l'indice\", probplace, \"dans le tableau.\")\n",
    "else:\n",
    "    print(\"\\nLe nombre\", n, \"n'est pas dans le tableau.\")\n",
    "\n",
    "print(\"Temps de recherche par interpolation\", end3 - start3)\n",
    "\n",
    "#FIN DE RECHERCHCHE INTERPOLATION (ITE)#"
   ]
  },
  {
   "cell_type": "markdown",
   "metadata": {},
   "source": [
    "Exemple d'output :\n",
    "\n",
    "[61, 7, 48, 63, 54, 67, 24, 4, 13, 37, 78, 4, 54, 84, 30, 21, 5, 11, 100, 37, 57, 81, 16, 83, 88, 67, 37, 14, 72, 46, 35, 45, 30, 45, 2, 4, 67, 15, 9, 92, 58, 27, 97, 76, 65, 90, 45, 8, 46, 15, 69, 25, 93, 80, 4, 32, 52, 84, 20, 25, 87, 37, 64, 15, 71, 18, 70, 57, 57, 73, 44, 40, 45, 97, 55, 77, 98, 86, 17, 72, 85, 81, 34, 27, 36, 40, 95, 40, 36, 81, 28, 1, 70, 74, 42, 10, 35, 14, 66, 27]\n",
    "[1, 2, 4, 4, 4, 4, 5, 7, 8, 9, 10, 11, 13, 14, 14, 15, 15, 15, 16, 17, 18, 20, 21, 24, 25, 25, 27, 27, 27, 28, 30, 30, 32, 34, 35, 35, 36, 36, 37, 37, 37, 37, 40, 40, 40, 42, 44, 45, 45, 45, 45, 46, 46, 48, 52, 54, 54, 55, 57, 57, 57, 58, 61, 63, 64, 65, 66, 67, 67, 67, 69, 70, 70, 71, 72, 72, 73, 74, 76, 77, 78, 80, 81, 81, 81, 83, 84, 84, 85, 86, 87, 88, 90, 92, 93, 95, 97, 97, 98, 100]\n",
    "La valeur 5 est à l'indice 6\n",
    "Temps de recherche linéaire 0.00013494491577148438\n",
    "\n",
    "La valeur 5 est à l'indice 6\n",
    "Temps de recherche dichotomique 8.416175842285156e-05\n",
    "\n",
    "La valeur 5 est à l'indice 6 dans le tableau.\n",
    "Temps de recherche par interpolation 9.083747863769531e-05\n"
   ]
  },
  {
   "cell_type": "markdown",
   "metadata": {},
   "source": [
    "EXERCICE 2"
   ]
  },
  {
   "cell_type": "markdown",
   "metadata": {},
   "source": [
    "2.1 Recherche de motif\n"
   ]
  },
  {
   "cell_type": "code",
   "execution_count": 25,
   "metadata": {},
   "outputs": [
    {
     "name": "stdout",
     "output_type": "stream",
     "text": [
      "ATGATGGACGTAAGCAGCATGTACGGCAACCACCCGCACCACCACCATCCACATGCCAATGCCTACGACGGCTACAGCACCACCACCGCGTCGGCGGCCA\n"
     ]
    }
   ],
   "source": [
    "\n",
    "f = open(\"sequence_adn\", \"r\")\n",
    "sequence = f.read() #taille 14813\n",
    "f.close()\n",
    "\n",
    "#Exemple/Test : affichage d'un extrait de la chaîne\n",
    "print(sequence[:100])"
   ]
  },
  {
   "cell_type": "code",
   "execution_count": 5,
   "metadata": {},
   "outputs": [
    {
     "name": "stdout",
     "output_type": "stream",
     "text": [
      "Votre pattern ATTCG est présent 11 fois à/aux (l')indice(s) [338, 2229, 2879, 4251, 4425, 5579, 6200, 7547, 12335, 14081, 14243]\n",
      "None\n"
     ]
    }
   ],
   "source": [
    "f = open(\"sequence_adn\", \"r\")\n",
    "sequence = f.read()\n",
    "f.close()\n",
    "\n",
    "pattern = input(\"Votre Pattern ADN ici : \")\n",
    "\n",
    "def exist_patterns(sequence, pattern):\n",
    "\n",
    "    ''' pattern in sequence -> count\n",
    "    retourne le nombre d'occurence si il existe une occurence du pattern dans cette chaine de caractère sinon un bouleen'''\n",
    "\n",
    "    idx_sequence = 0\n",
    "    count = 0\n",
    "    i_loc_start  = []\n",
    "    i_loc_end = []\n",
    "    address = []\n",
    "\n",
    "    if pattern == '':\n",
    "        return count\n",
    "    \n",
    "    while idx_sequence < len(sequence):\n",
    "        index_pattern = 0\n",
    "\n",
    "        while index_pattern < len(pattern) and idx_sequence + index_pattern < len(sequence) and sequence[idx_sequence + index_pattern] == pattern[index_pattern]:\n",
    "            index_pattern += 1\n",
    "            if index_pattern == len(pattern):\n",
    "                count += 1\n",
    "                i_loc_start.append(idx_sequence - index_pattern)\n",
    "        idx_sequence += 1\n",
    "\n",
    "    if count > 0:\n",
    "        print(\"Votre pattern\", pattern, \"est présent\", count, \"fois commençant à/aux (l')indice(s)\", i_loc_start)\n",
    "    else:\n",
    "        print(\"Votre pattern n'est pas présent\")\n",
    "\n",
    "res = exist_patterns(sequence,pattern)\n",
    "\n",
    "print(res)"
   ]
  },
  {
   "cell_type": "markdown",
   "metadata": {},
   "source": [
    "Cette function rassemble les deux fonctions en une. Elle ne retourne  pas de valeur mais print les éléments demandés"
   ]
  }
 ],
 "metadata": {
  "kernelspec": {
   "display_name": "Python 3",
   "language": "python",
   "name": "python3"
  },
  "language_info": {
   "codemirror_mode": {
    "name": "ipython",
    "version": 3
   },
   "file_extension": ".py",
   "mimetype": "text/x-python",
   "name": "python",
   "nbconvert_exporter": "python",
   "pygments_lexer": "ipython3",
   "version": "3.12.1"
  }
 },
 "nbformat": 4,
 "nbformat_minor": 2
}
